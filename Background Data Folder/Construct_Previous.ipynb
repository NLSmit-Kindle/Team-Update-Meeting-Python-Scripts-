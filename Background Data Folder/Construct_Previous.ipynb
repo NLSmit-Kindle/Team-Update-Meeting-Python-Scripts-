{
 "cells": [
  {
   "cell_type": "code",
   "execution_count": null,
   "id": "d369329c",
   "metadata": {},
   "outputs": [],
   "source": [
    "import sqlite3\n",
    "import os\n",
    "\n",
    "script_dir = os.getcwd()\n",
    "print(script_dir)\n",
    "\n",
    "background_data_dir = os.path.join(script_dir, 'Background Data Folder')\n",
    "if not os.path.exists(background_data_dir):\n",
    "    os.makedirs(background_data_dir)\n",
    "\"\"\"WANT TO CREATE FOLDERS IF NOT EXISTS not the files\"\"\"\n",
    "\n",
    "sql_path = os.path.join(background_data_dir, 'Previous_Error_n_ResponseTimes202517.sql')\n",
    "\n",
    "db_name = 'previous_errors_n_reponse_times_data.db'  \n",
    "db_path = os.path.join(background_data_dir, db_name)\n",
    "\n",
    "conn = sqlite3.connect(db_path)\n",
    "cursor = conn.cursor()\n",
    "\n",
    "with open(sql_path, 'r') as file:\n",
    "    sql_script = file.read()\n",
    "\n",
    "cursor.executescript(sql_script)\n",
    "\n",
    "conn.commit()\n",
    "conn.close()\n",
    "\n",
    "print(f\"Database '{db_name}' created and SQL script executed successfully.\")"
   ]
  }
 ],
 "metadata": {
  "kernelspec": {
   "display_name": ".venv",
   "language": "python",
   "name": "python3"
  },
  "language_info": {
   "codemirror_mode": {
    "name": "ipython",
    "version": 3
   },
   "file_extension": ".py",
   "mimetype": "text/x-python",
   "name": "python",
   "nbconvert_exporter": "python",
   "pygments_lexer": "ipython3",
   "version": "3.11.9"
  }
 },
 "nbformat": 4,
 "nbformat_minor": 5
}
